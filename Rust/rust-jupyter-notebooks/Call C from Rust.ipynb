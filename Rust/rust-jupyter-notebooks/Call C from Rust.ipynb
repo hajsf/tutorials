{
 "cells": [
  {
   "cell_type": "markdown",
   "metadata": {},
   "source": [
    "https://doc.rust-lang.org/book/ch19-01-unsafe-rust.html"
   ]
  },
  {
   "cell_type": "raw",
   "metadata": {},
   "source": [
    "names and signatures of external functions"
   ]
  },
  {
   "cell_type": "code",
   "execution_count": 2,
   "metadata": {},
   "outputs": [],
   "source": [
    "extern \"C\" {\n",
    "    fn abs(input: i32) -> i32;\n",
    "}"
   ]
  },
  {
   "cell_type": "code",
   "execution_count": 17,
   "metadata": {},
   "outputs": [
    {
     "ename": "Error",
     "evalue": "call to unsafe function is unsafe and requires unsafe function or block",
     "output_type": "error",
     "traceback": [
      "println!(\"Absolute value of -3 according to C: {}\", abs(-3));",
      "\u001b[91m                                                    ^^^^^^^\u001b[0m \u001b[94mcall to unsafe function\u001b[0m",
      "call to unsafe function is unsafe and requires unsafe function or block"
     ]
    }
   ],
   "source": [
    "println!(\"Absolute value of -3 according to C: {}\", abs(-3));"
   ]
  },
  {
   "cell_type": "code",
   "execution_count": 18,
   "metadata": {},
   "outputs": [
    {
     "name": "stdout",
     "output_type": "stream",
     "text": [
      "Absolute value of -3 according to C: 3\n"
     ]
    },
    {
     "data": {
      "text/plain": [
       "()"
      ]
     },
     "execution_count": 18,
     "metadata": {},
     "output_type": "execute_result"
    }
   ],
   "source": [
    "unsafe {\n",
    "        println!(\"Absolute value of -3 according to C: {}\", abs(-3));\n",
    "}"
   ]
  },
  {
   "cell_type": "code",
   "execution_count": 19,
   "metadata": {},
   "outputs": [
    {
     "name": "stdout",
     "output_type": "stream",
     "text": [
      "Absolute value of -3 according to C: 3\n"
     ]
    }
   ],
   "source": [
    "println!(\"Absolute value of -3 according to C: {}\", unsafe { abs(-3) } );"
   ]
  },
  {
   "cell_type": "code",
   "execution_count": 23,
   "metadata": {},
   "outputs": [
    {
     "ename": "Error",
     "evalue": "expected `{`, found `abs`",
     "output_type": "error",
     "traceback": [
      "println!(\"Absolute value of -3 according to C: {}\", unsafe abs(-3) );",
      "\u001b[91m                                                           ^^^\u001b[0m \u001b[94mexpected `{`\u001b[0m",
      "expected `{`, found `abs`"
     ]
    }
   ],
   "source": [
    "println!(\"Absolute value of -3 according to C: {}\", unsafe abs(-3) );"
   ]
  },
  {
   "cell_type": "code",
   "execution_count": 20,
   "metadata": {},
   "outputs": [
    {
     "ename": "Error",
     "evalue": "expected one of `!`, `.`, `::`, `;`, `?`, `{`, `}`, or an operator, found `twice`",
     "output_type": "error",
     "traceback": [
      "int twice(int x) {",
      "\u001b[91m    ^^^^^\u001b[0m \u001b[94mexpected one of 8 possible tokens here\u001b[0m",
      "expected one of `!`, `.`, `::`, `;`, `?`, `{`, `}`, or an operator, found `twice`"
     ]
    },
    {
     "ename": "Error",
     "evalue": "cannot find value `int` in this scope",
     "output_type": "error",
     "traceback": [
      "int twice(int x) {",
      "\u001b[91m^^^\u001b[0m \u001b[94mnot found in this scope\u001b[0m",
      "cannot find value `int` in this scope"
     ]
    }
   ],
   "source": [
    "int twice(int x) {\n",
    "  return x * 2;\n",
    "}"
   ]
  },
  {
   "cell_type": "code",
   "execution_count": 21,
   "metadata": {},
   "outputs": [],
   "source": [
    "extern \"C\" {\n",
    "    fn twice(input: i32) -> i32;\n",
    "}"
   ]
  },
  {
   "cell_type": "code",
   "execution_count": 22,
   "metadata": {},
   "outputs": [
    {
     "ename": "Error",
     "evalue": "linking with `cc` failed: exit code: 1",
     "output_type": "error",
     "traceback": [
      "\u001b[91mlinking with `cc` failed: exit code: 1\u001b[0m"
     ]
    }
   ],
   "source": [
    "println!(\"Twice value of 3 according to C: {}\", unsafe { twice(3) } );"
   ]
  },
  {
   "cell_type": "code",
   "execution_count": 24,
   "metadata": {},
   "outputs": [],
   "source": [
    ":dep cc = \"1.0\""
   ]
  },
  {
   "cell_type": "code",
   "execution_count": 25,
   "metadata": {},
   "outputs": [
    {
     "name": "stderr",
     "output_type": "stream",
     "text": [
      "\n",
      "\n",
      "error occurred: Environment variable OUT_DIR not defined.\n",
      "\n",
      "\n"
     ]
    },
    {
     "ename": "Error",
     "evalue": "Child process terminated with status: exit code: 1",
     "output_type": "error",
     "traceback": [
      "Child process terminated with status: exit code: 1"
     ]
    }
   ],
   "source": [
    "    cc::Build::new()\n",
    "        .file(\"twice.c\")\n",
    "        .compile(\"twice\");"
   ]
  },
  {
   "cell_type": "code",
   "execution_count": 26,
   "metadata": {},
   "outputs": [
    {
     "name": "stderr",
     "output_type": "stream",
     "text": [
      "\n",
      "\n",
      "error occurred: Environment variable OUT_DIR not defined.\n",
      "\n",
      "\n"
     ]
    },
    {
     "ename": "Error",
     "evalue": "Child process terminated with status: exit code: 1",
     "output_type": "error",
     "traceback": [
      "Child process terminated with status: exit code: 1"
     ]
    }
   ],
   "source": [
    "    cc::Build::new()\n",
    "        .file(\"twice.c\")    // can be multiple files\n",
    "        .compile(\"twice.a\");  //  .compile(\"twice\");"
   ]
  },
  {
   "cell_type": "code",
   "execution_count": null,
   "metadata": {},
   "outputs": [],
   "source": []
  }
 ],
 "metadata": {
  "kernelspec": {
   "display_name": "Rust",
   "language": "rust",
   "name": "rust"
  },
  "language_info": {
   "codemirror_mode": "rust",
   "file_extension": ".rs",
   "mimetype": "text/rust",
   "name": "Rust",
   "pygment_lexer": "rust",
   "version": ""
  }
 },
 "nbformat": 4,
 "nbformat_minor": 4
}
