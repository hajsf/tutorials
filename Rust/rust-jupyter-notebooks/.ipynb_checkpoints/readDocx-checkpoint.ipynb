{
 "cells": [
  {
   "cell_type": "code",
   "execution_count": 22,
   "metadata": {},
   "outputs": [],
   "source": [
    ":dep dotext = \"0.1.1\"\n",
    ":dep regex = \"1.3.1\""
   ]
  },
  {
   "cell_type": "code",
   "execution_count": 23,
   "metadata": {},
   "outputs": [
    {
     "ename": "Error",
     "evalue": "the name `Read` is defined multiple times",
     "output_type": "error",
     "traceback": [
      "use std::io::Read;",
      "\u001b[91m    ^^^^^^^^^^^^^\u001b[0m \u001b[94m`Read` reimported here\u001b[0m",
      "use std::io::Read;",
      "\u001b[91m    ^^^^^^^^^^^^^\u001b[0m \u001b[94mprevious import of the trait `Read` here\u001b[0m",
      "the name `Read` is defined multiple times"
     ]
    }
   ],
   "source": [
    "use dotext::*;\n",
    "\n",
    "use std::env;\n",
    "use std::io::Read;"
   ]
  },
  {
   "cell_type": "code",
   "execution_count": 26,
   "metadata": {},
   "outputs": [],
   "source": [
    "use regex::RegexSet;"
   ]
  },
  {
   "cell_type": "code",
   "execution_count": 36,
   "metadata": {},
   "outputs": [],
   "source": [
    "let searches: Vec<&str> = vec![\"supply chain\", \"Purchasing\"];"
   ]
  },
  {
   "cell_type": "code",
   "execution_count": 38,
   "metadata": {},
   "outputs": [],
   "source": [
    "let set: RegexSet = RegexSet::new(&searches).unwrap();"
   ]
  },
  {
   "cell_type": "code",
   "execution_count": 43,
   "metadata": {},
   "outputs": [],
   "source": [
    "use regex::Regex;"
   ]
  },
  {
   "cell_type": "code",
   "execution_count": 50,
   "metadata": {},
   "outputs": [],
   "source": [
    "let re: Regex = Regex::new(r\"(a|b)\").unwrap();"
   ]
  },
  {
   "cell_type": "code",
   "execution_count": 51,
   "metadata": {},
   "outputs": [
    {
     "name": "stdout",
     "output_type": "stream",
     "text": [
      "(a|b)\n"
     ]
    }
   ],
   "source": [
    "println!(\"{:?}\", re);"
   ]
  },
  {
   "cell_type": "code",
   "execution_count": 111,
   "metadata": {},
   "outputs": [],
   "source": [
    "let mut file = Docx::open(\"HasanResume.docx\").expect(\"Cannot open file\");"
   ]
  },
  {
   "cell_type": "code",
   "execution_count": 39,
   "metadata": {},
   "outputs": [
    {
     "name": "stdout",
     "output_type": "stream",
     "text": [
      "RegexSet([\"supply chain\", \"Purchasing\"])\n"
     ]
    }
   ],
   "source": [
    "println!(\"{:?}\", set);"
   ]
  },
  {
   "cell_type": "code",
   "execution_count": 124,
   "metadata": {},
   "outputs": [],
   "source": [
    "let current_status: Vec<&str> = vec![\n",
    "    \"Supply Chain\", \n",
    "   // \"Project\",  # give all words startby project like projects, projectile, ... etc\n",
    "    \"Project(s|^s)\",  // (s|^s) ending with or without `s`\n",
    "    \"Control(?=[^s])\", // (?=[^s]) not ending with s\n",
    "    \"Plicy|Policies\",  // either singular or plural\n",
    "    \"Procurement\", \"Contracting\", \"Analysis\", \"optimization\", \"working capital\", \n",
    "    \"utilization\", \"Planning\", \"Forecasting\", \"Sourcing\", \"Purchasing\", \"Material\", \"Inventory\", \n",
    "    \"Production\", \"Logistics\", \"Transportation\", \"Customer Service\", \"ERP(?=[^s])\", \"Compliance\", \n",
    "    \"Procedure(s|^s)\", \"synergy\", \"cash\"\n",
    "]; //  to be scanned in the given CV"
   ]
  },
  {
   "cell_type": "code",
   "execution_count": 121,
   "metadata": {},
   "outputs": [
    {
     "name": "stdout",
     "output_type": "stream",
     "text": [
      "Supply Chain\n",
      "Project(s|^s)\n",
      "Control(?=[^s])\n",
      "Plicy|Policies\n",
      "Procurement\n",
      "Contracting\n",
      "Analysis\n",
      "optimization\n",
      "working capital\n",
      "utilization\n",
      "Planning\n",
      "Forecasting\n",
      "Sourcing\n",
      "Purchasing\n",
      "Material\n",
      "Inventory\n",
      "Production\n",
      "Logistics\n",
      "Transportation\n",
      "Customer Service\n",
      "ERP(?=[^s])\n",
      "Compliance\n",
      "Procedure(s|^s)\n",
      "synergy\n",
      "cash\n"
     ]
    }
   ],
   "source": [
    "for skill in required_skills {\n",
    "    println!(\"{}\", skill);\n",
    "};"
   ]
  },
  {
   "cell_type": "code",
   "execution_count": 101,
   "metadata": {},
   "outputs": [
    {
     "name": "stdout",
     "output_type": "stream",
     "text": [
      "skill|Supply Chain|Project(s|^s)|Control(?=[^s])|Plicy|Policies|Procurement|Contracting|Analysis|optimization|working capital|utilization|Planning|Forecasting|Sourcing|Purchasing|Material|Inventory|Production|Logistics|Transportation|Customer Service|ERP(?=[^s])|Compliance|Procedure(s|^s)|synergy|cash\n"
     ]
    },
    {
     "data": {
      "text/plain": [
       "()"
      ]
     },
     "execution_count": 101,
     "metadata": {},
     "output_type": "execute_result"
    }
   ],
   "source": [
    "let mut rx1 = String::from(\"skill\");\n",
    "for skill1 in required_skills {\n",
    "       rx1 = format!(\"{}|{}\", &rx1, &String::from(skill1));\n",
    "}\n",
    "println!(\"{}\", rx1);\n",
    "//let re: Regex = Regex::new(r\"(a|b)\").unwrap();"
   ]
  },
  {
   "cell_type": "code",
   "execution_count": 104,
   "metadata": {},
   "outputs": [],
   "source": [
    "let re3 = format!(\"r\\\"{}\\\"i\", rx1);\n",
    "//         rx = Regex(string(\"(?i)($rx)s?(?-i)\")) # (?i) case insensetive (?-i)"
   ]
  },
  {
   "cell_type": "code",
   "execution_count": 105,
   "metadata": {},
   "outputs": [
    {
     "name": "stdout",
     "output_type": "stream",
     "text": [
      "r\"skill|Supply Chain|Project(s|^s)|Control(?=[^s])|Plicy|Policies|Procurement|Contracting|Analysis|optimization|working capital|utilization|Planning|Forecasting|Sourcing|Purchasing|Material|Inventory|Production|Logistics|Transportation|Customer Service|ERP(?=[^s])|Compliance|Procedure(s|^s)|synergy|cash\"i\n"
     ]
    }
   ],
   "source": [
    "println!(\"{}\", re3);"
   ]
  },
  {
   "cell_type": "code",
   "execution_count": 108,
   "metadata": {},
   "outputs": [
    {
     "ename": "Error",
     "evalue": "cannot find value `re3` in this scope",
     "output_type": "error",
     "traceback": [
      "let re2: Regex = Regex::new(&re3).unwrap();",
      "\u001b[91m                             ^^^\u001b[0m \u001b[94mnot found in this scope\u001b[0m",
      "cannot find value `re3` in this scope"
     ]
    }
   ],
   "source": [
    "let re2: Regex = Regex::new(&re3).unwrap();"
   ]
  },
  {
   "cell_type": "code",
   "execution_count": 122,
   "metadata": {},
   "outputs": [],
   "source": [
    "let mut status_reg: Vec<&str> = vec![Default::default()];"
   ]
  },
  {
   "cell_type": "code",
   "execution_count": 126,
   "metadata": {},
   "outputs": [
    {
     "ename": "Error",
     "evalue": "temporary value dropped while borrowed",
     "output_type": "error",
     "traceback": [
      "    status_reg.push(format!(\"r\\\"{}\\\"i\", status).as_str()); ",
      "\u001b[91m                    ^^^^^^^^^^^^^^^^^^^^^^^^^^^\u001b[0m \u001b[94mcreates a temporary which is freed while still in use\u001b[0m",
      "    status_reg.push(format!(\"r\\\"{}\\\"i\", status).as_str()); ",
      "\u001b[91m                                                         ^\u001b[0m \u001b[94mtemporary value is freed at the end of this statement\u001b[0m",
      "    status_reg.push(format!(\"r\\\"{}\\\"i\", status).as_str()); ",
      "\u001b[91m                    ^^^^^^^^^^^^^^^^^^^^^^^^^^^^^^^^^^^^\u001b[0m \u001b[94margument requires that borrow lasts for `'static`\u001b[0m",
      "temporary value dropped while borrowed"
     ]
    }
   ],
   "source": [
    "for status in current_status {\n",
    "    status_reg.push(format!(\"r\\\"{}\\\"i\", status).as_str()); \n",
    "}"
   ]
  },
  {
   "cell_type": "code",
   "execution_count": null,
   "metadata": {},
   "outputs": [],
   "source": [
    "let set: RegexSet = RegexSet::new(&searches).unwrap();"
   ]
  },
  {
   "cell_type": "code",
   "execution_count": 86,
   "metadata": {},
   "outputs": [],
   "source": [
    "let mut rx1 = String::from(\"skill\");"
   ]
  },
  {
   "cell_type": "code",
   "execution_count": 87,
   "metadata": {},
   "outputs": [
    {
     "data": {
      "text/plain": [
       "()"
      ]
     },
     "execution_count": 87,
     "metadata": {},
     "output_type": "execute_result"
    }
   ],
   "source": [
    "for skill1 in required_skills {\n",
    "       rx1 = format!(\"{}|{}\", &rx1, &String::from(skill1));\n",
    "}"
   ]
  },
  {
   "cell_type": "code",
   "execution_count": 30,
   "metadata": {},
   "outputs": [],
   "source": [
    "let mut isi = String::new();"
   ]
  },
  {
   "cell_type": "code",
   "execution_count": 31,
   "metadata": {},
   "outputs": [],
   "source": [
    "let _ = file.read_to_string(&mut isi);"
   ]
  },
  {
   "cell_type": "code",
   "execution_count": 40,
   "metadata": {},
   "outputs": [
    {
     "name": "stdout",
     "output_type": "stream",
     "text": [
      "Out of 2 requirements, the below 2 matches had been found:\n",
      "supply chain\n",
      "Purchasing\n"
     ]
    },
    {
     "data": {
      "text/plain": [
       "()"
      ]
     },
     "execution_count": 40,
     "metadata": {},
     "output_type": "execute_result"
    }
   ],
   "source": [
    "    if set.is_match(&isi){\n",
    "        let matches: Vec<_> = set.matches(&isi).into_iter().collect();\n",
    "        let exact_matches = matches.iter().\n",
    "                                    map(|num| searches[*num]).collect::<Vec<&str>>();\n",
    "        println!(\"Out of {} requirements, the below {} matches had been found:\",\n",
    "                set.len(), matches.len());\n",
    "        for x in exact_matches {\n",
    "                println!(\"{}\", x );\n",
    "        }\n",
    "    } else {\n",
    "            println!(\"No matches found\");\n",
    "    }"
   ]
  },
  {
   "cell_type": "code",
   "execution_count": 14,
   "metadata": {},
   "outputs": [],
   "source": [
    "//println!(\"{}\", isi);"
   ]
  },
  {
   "cell_type": "code",
   "execution_count": null,
   "metadata": {},
   "outputs": [],
   "source": [
    "use std::io::Read;\n",
    "\n",
    "extern crate argparse;\n",
    "use argparse::{ArgumentParser, Store};\n",
    "\n",
    "extern crate dotext;\n",
    "use dotext::*;\n",
    "\n",
    "extern crate regex;\n",
    "use regex::RegexSet;\n",
    "\n",
    "fn main(){\n",
    "    let mut path = String::new();\n",
    "    let mut skills = String::new();\n",
    "    {\n",
    "        let mut ap = ArgumentParser::new();\n",
    "        ap.refer(&mut path)\n",
    "            .add_option(&[\"-p\", \"--path\"], Store,\n",
    "            \"Path to the file to be read\");\n",
    "        ap.refer(&mut skills)\n",
    "            .add_option(&[\"-s\", \"--skills\"], Store,\n",
    "            \"Skills / Experience required\");\n",
    "\n",
    "        ap.parse_args_or_exit();\n",
    "    }\n",
    "\n",
    "    let searches: Vec<&str> = skills.split_whitespace().collect(); //.split(\",\")\n",
    "    //let searches = skills.split(\",\").collect::<Vec<&str>>();\n",
    "\n",
    "    let set = RegexSet::new(&searches).unwrap();\n",
    "\n",
    "//    let mut file = Docx::open(\"samples/sample.docx\").unwrap();\n",
    "    let mut file = Docx::open(path).expect(\"Cannot open file\");\n",
    "    let mut isi = String::new();\n",
    "    let _ = file.read_to_string(&mut isi);\n",
    "\n",
    "    if set.is_match(&isi){\n",
    "        let matches: Vec<_> = set.matches(&isi).into_iter().collect();\n",
    "        let exact_matches = matches.iter().\n",
    "                                    map(|num| searches[*num]).collect::<Vec<&str>>();\n",
    "        println!(\"Out of {} requirements, the below {} matches had been found:\",\n",
    "                set.len(), matches.len());\n",
    "        for x in exact_matches {\n",
    "                println!(\"{}\", x );\n",
    "        }\n",
    "    } else {\n",
    "            println!(\"No matches found\");\n",
    "    }\n",
    "}"
   ]
  }
 ],
 "metadata": {
  "kernelspec": {
   "display_name": "Rust",
   "language": "rust",
   "name": "rust"
  },
  "language_info": {
   "codemirror_mode": "rust",
   "file_extension": ".rs",
   "mimetype": "text/rust",
   "name": "Rust",
   "pygment_lexer": "rust",
   "version": ""
  }
 },
 "nbformat": 4,
 "nbformat_minor": 4
}
