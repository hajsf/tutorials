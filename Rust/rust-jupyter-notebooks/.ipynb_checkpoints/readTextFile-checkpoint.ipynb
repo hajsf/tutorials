{
 "cells": [
  {
   "cell_type": "code",
   "execution_count": 2,
   "metadata": {},
   "outputs": [],
   "source": [
    "use std::fs::File;\n",
    "use std::io::Read;"
   ]
  },
  {
   "cell_type": "code",
   "execution_count": 5,
   "metadata": {},
   "outputs": [],
   "source": [
    "let filename = \"twice.c\";"
   ]
  },
  {
   "cell_type": "code",
   "execution_count": 7,
   "metadata": {},
   "outputs": [
    {
     "name": "stdout",
     "output_type": "stream",
     "text": [
      "int twice(int x) {\n",
      "  return x * 2;\n",
      "}\n"
     ]
    }
   ],
   "source": [
    "    // Open the file in read-only mode.\n",
    "    match File::open(filename) {\n",
    "        // The file is open (no error).\n",
    "        Ok(mut file) => {\n",
    "            let mut content = String::new();\n",
    "\n",
    "            // Read all the file content into a variable (ignoring the result of the operation).\n",
    "            file.read_to_string(&mut content).unwrap();\n",
    "\n",
    "            println!(\"{}\", content);\n",
    "\n",
    "            // The file is automatically closed when is goes out of scope.\n",
    "        },\n",
    "        // Error handling.\n",
    "        Err(error) => {\n",
    "            println!(\"Error opening file {}: {}\", filename, error);\n",
    "        },\n",
    "    };"
   ]
  },
  {
   "cell_type": "code",
   "execution_count": null,
   "metadata": {},
   "outputs": [],
   "source": []
  }
 ],
 "metadata": {
  "kernelspec": {
   "display_name": "Rust",
   "language": "rust",
   "name": "rust"
  },
  "language_info": {
   "codemirror_mode": "rust",
   "file_extension": ".rs",
   "mimetype": "text/rust",
   "name": "Rust",
   "pygment_lexer": "rust",
   "version": ""
  }
 },
 "nbformat": 4,
 "nbformat_minor": 2
}
