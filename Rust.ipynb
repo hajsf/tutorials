{
 "cells": [
  {
   "cell_type": "markdown",
   "metadata": {},
   "source": [
    "Install [rust magic](https://github.com/axil/rust-magic)"
   ]
  },
  {
   "cell_type": "code",
   "execution_count": 1,
   "metadata": {},
   "outputs": [],
   "source": [
    "%load_ext rust_magic"
   ]
  },
  {
   "cell_type": "code",
   "execution_count": 3,
   "metadata": {},
   "outputs": [
    {
     "name": "stdout",
     "output_type": "stream",
     "text": [
      "Hello, Rust\n"
     ]
    }
   ],
   "source": [
    "%%rust\n",
    "println!(\"Hello, Rust\");"
   ]
  },
  {
   "cell_type": "code",
   "execution_count": 3,
   "metadata": {},
   "outputs": [
    {
     "name": "stdout",
     "output_type": "stream",
     "text": [
      "[1, 2, 3]\n",
      "[1, 3, 2]\n",
      "[0, 0, 0, 0]\n",
      "[1, 2, 3, 4, 5, 6]\n",
      "()\n"
     ]
    }
   ],
   "source": [
    "%%rust\n",
    "//let mut a: [[[u8; 3]; 2]; 2] = [[[1, 2, 3],[4,5,6]],[[10, 20, 3],[4,50,6]]];\n",
    "let mut a: [u8; 3] = [1, 2, 3];\n",
    "println!(\"{:?}\", &a);\n",
    "//a[0] = 5;\n",
    "//a.rotate_left(1);\n",
    "//a.reverse();\n",
    "a.swap(1, 2);\n",
    "println!(\"{:?}\", &a);\n",
    "//a.append(4);\n",
    "const z: usize = 4;\n",
    "let mut b: [u8; z];\n",
    "b = [Default::default(); z];\n",
    "//&a.iter().zip(&b).map(|(x, y)| y = x).collect::<u8>();\n",
    "println!(\"{:?}\", &b);\n",
    "\n",
    "let mut data = Vec::new();\n",
    "data.extend_from_slice(&[1, 2, 3]);\n",
    "data.extend_from_slice(&[4, 5, 6]);\n",
    "println!(\"{:?}\", data);\n",
    "/*\n",
    "assert_eq!(\n",
    "    Array::from_shape_vec((2, 3), data).unwrap(),\n",
    "    array[[1, 2, 3],\n",
    "           [4, 5, 6]],\n",
    "); */"
   ]
  },
  {
   "cell_type": "code",
   "execution_count": 65,
   "metadata": {},
   "outputs": [
    {
     "name": "stdout",
     "output_type": "stream",
     "text": [
      "   Compiling cell v0.1.0 (C:\\Users\\hasan.DESKTOP-HU2FQ29\\AppData\\Local\\Cargo\\script-cache\\file-cell-4b529291e6ee6163)\n",
      "error[E0435]: attempt to use a non-constant value in a constant\n",
      "  --> cell.rs:15:49\n",
      "   |\n",
      "15 |     let mut array = [<T as Default>::default(); n];\n",
      "   |                                                 ^ non-constant value\n",
      "\n",
      "error: aborting due to previous error\n",
      "\n",
      "For more information about this error, try `rustc --explain E0435`.\n",
      "error: Could not compile `cell`.\n",
      "\n",
      "To learn more, run the command again with --verbose.\n",
      "internal error: cargo failed with status 101\n"
     ]
    }
   ],
   "source": [
    "%%rust\n",
    "fn main() {\n",
    "    const Z: usize = 4;\n",
    "    let a: [u8; 3] = [1, 2, 3];\n",
    "    let b = expand(&a[..], Z);\n",
    "    println!(\"{:#?}\", b);\n",
    "    dbg!(b);\n",
    "}\n",
    "\n",
    "fn expand<T: Clone + Copy + Default>(array: &[T], n: usize) -> [T; 4] {\n",
    "    let r = (n as isize - array.len() as isize).max(0) as usize;\n",
    "    let z = vec![<T as Default>::default()];\n",
    "    let z = z.iter().cloned().cycle().take(r);\n",
    "    let barry: Vec<T> = array.iter().cloned().chain(z).collect();\n",
    "    \n",
    "    let mut array = [<T as Default>::default(); 4];\n",
    "        for (&x, p) in barry.iter().zip(array.iter_mut()) {\n",
    "        *p = x;\n",
    "    }\n",
    "    array\n",
    "}"
   ]
  },
  {
   "cell_type": "code",
   "execution_count": 64,
   "metadata": {},
   "outputs": [
    {
     "name": "stdout",
     "output_type": "stream",
     "text": [
      "   Compiling cell v0.1.0 (C:\\Users\\hasan.DESKTOP-HU2FQ29\\AppData\\Local\\Cargo\\script-cache\\file-cell-4b529291e6ee6163)\n",
      "    Finished release [optimized] target(s) in 2.05s\n",
      "[\n",
      "    1,\n",
      "    2,\n",
      "    3,\n",
      "    0,\n",
      "]\n",
      "[cell.rs:6] b = [\n",
      "    1,\n",
      "    2,\n",
      "    3,\n",
      "    0,\n",
      "]\n"
     ]
    }
   ],
   "source": [
    "%%rust\n",
    "fn main() {\n",
    "    const Z: usize = 4;\n",
    "    let a: [u8; 3] = [1, 2, 3];\n",
    "    let b = expand(&a[..], Z);\n",
    "     println!(\"{:#?}\", b);\n",
    "    dbg!(b);\n",
    "}\n",
    "\n",
    "fn expand<T: Clone + Copy + Default>(array: &[T], n: usize) -> Vec<T> {\n",
    "    let r = (n as isize - array.len() as isize).max(0) as usize;\n",
    "    let z = vec![<T as Default>::default()];\n",
    "    let z = z.iter().cloned().cycle().take(r);\n",
    "    array.iter().cloned().chain(z).collect()\n",
    "}"
   ]
  },
  {
   "cell_type": "code",
   "execution_count": 79,
   "metadata": {},
   "outputs": [
    {
     "name": "stdout",
     "output_type": "stream",
     "text": [
      "[0, 0, 0, 0]\n",
      "Iter([0, 0, 0, 0])\n",
      "a as array: [1, 2, 3]\n",
      "a as vector: [1, 2, 3]\n",
      "Iter([1, 2, 3, 0])\n"
     ]
    }
   ],
   "source": [
    "%%rust\n",
    "    const Z: usize = 4;\n",
    "    let mut a: [u8; 3] = [1, 2, 3];\n",
    "    let mut b: [u8; Z];\n",
    "    b = [Default::default(); Z];\n",
    "    println!(\"{:?}\", b);\n",
    "    let ww: std::slice:: Iter<u8> = b.iter();\n",
    "     println!(\"{:?}\", ww);                   \n",
    "    a.iter().zip(b.iter_mut()).map(|(&x, y)| *y = x).count();\n",
    "    println!(\"a as array: {:?}\",a);\n",
    "    a.to_vec();\n",
    "    println!(\"a as vector: {:?}\",a);\n",
    "//for (&x, yy) in a.iter().zip(b.iter_mut()) {\n",
    "//        * = x;\n",
    "//    }\n",
    "    println!(\"{:?}\", b.iter());"
   ]
  },
  {
   "cell_type": "code",
   "execution_count": 85,
   "metadata": {},
   "outputs": [
    {
     "name": "stdout",
     "output_type": "stream",
     "text": [
      "y at startup: [0, 0, 0]\n",
      "y copied from vec: [1, 2, 3]\n"
     ]
    }
   ],
   "source": [
    "%%rust\n",
    "let x = vec![1, 2, 3];\n",
    "let mut y: [u8; 3] = [Default::default(); 3];\n",
    "println!(\"y at startup: {:?}\", y);    \n",
    "x.iter().zip(y.iter_mut()).map(|(&x, y)| *y = x).count();\n",
    "println!(\"y copied from vec: {:?}\", y);"
   ]
  },
  {
   "cell_type": "code",
   "execution_count": 94,
   "metadata": {},
   "outputs": [
    {
     "name": "stdout",
     "output_type": "stream",
     "text": [
      "X at startup: [0, 0, 0]\n",
      "X copied from vec: [2, 3, 4]\n"
     ]
    }
   ],
   "source": [
    "%%rust\n",
    "let a = [1, 2, 3, 4, 5];\n",
    "let slice = &a[1..4];\n",
    "let mut x: Vec<u8> = vec![Default::default(); 3];\n",
    "println!(\"X at startup: {:?}\", x);    \n",
    "slice.iter().zip(x.iter_mut()).map(|(&s, x)| *x = s).count();\n",
    "println!(\"X copied from vec: {:?}\", x);"
   ]
  },
  {
   "cell_type": "code",
   "execution_count": 103,
   "metadata": {},
   "outputs": [
    {
     "name": "stdout",
     "output_type": "stream",
     "text": [
      "Copy array a into vector b: [1, 2, 3, 4, 5]\n",
      "Copy vector x into array y: [1, 2, 3, 4, 5]\n"
     ]
    }
   ],
   "source": [
    "%%rust\n",
    "let a = [1, 2, 3, 4, 5];\n",
    "let mut b: Vec<u8> = vec![Default::default(); 5];\n",
    "b[..a.len()].copy_from_slice(&a);\n",
    "println!(\"Copy array a into vector b: {:?}\", b);\n",
    "\n",
    "let x: Vec<u8> = vec![1, 2, 3, 4, 5];\n",
    "let mut y: [u8; 5] = [Default::default(); 5];\n",
    "y[..x.len()].copy_from_slice(&x);\n",
    "println!(\"Copy vector x into array y: {:?}\", y);"
   ]
  },
  {
   "cell_type": "code",
   "execution_count": null,
   "metadata": {},
   "outputs": [],
   "source": []
  }
 ],
 "metadata": {
  "kernelspec": {
   "display_name": "Python 3",
   "language": "python",
   "name": "python3"
  },
  "language_info": {
   "codemirror_mode": {
    "name": "ipython",
    "version": 3
   },
   "file_extension": ".py",
   "mimetype": "text/x-python",
   "name": "python",
   "nbconvert_exporter": "python",
   "pygments_lexer": "ipython3",
   "version": "3.7.4"
  }
 },
 "nbformat": 4,
 "nbformat_minor": 4
}
