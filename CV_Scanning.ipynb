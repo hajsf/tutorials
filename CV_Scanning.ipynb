{
 "cells": [
  {
   "cell_type": "markdown",
   "metadata": {},
   "source": [
    "# Scan CV wth 35 lines of code\n",
    "**[Hasan Yousef](mailto:hasan.ajsf@gmail.com), Sept 07, 2019**\n",
    "\n",
    "CV fast scanning app, read and analyse any pdf file based on your selected skills."
   ]
  },
  {
   "cell_type": "code",
   "execution_count": 277,
   "metadata": {},
   "outputs": [
    {
     "data": {
      "text/plain": [
       "\"HasanResume.pdf\""
      ]
     },
     "execution_count": 277,
     "metadata": {},
     "output_type": "execute_result"
    }
   ],
   "source": [
    "candidate_cv = \"HasanResume.pdf\" # CV to be analized"
   ]
  },
  {
   "cell_type": "code",
   "execution_count": 278,
   "metadata": {},
   "outputs": [
    {
     "data": {
      "text/plain": [
       "25-element Array{String,1}:\n",
       " \"Supply Chain\"    \n",
       " \"Project\"         \n",
       " \"Procurement\"     \n",
       " \"Contracting\"     \n",
       " \"Analysis\"        \n",
       " \"optimization\"    \n",
       " \"working capital\" \n",
       " \"utilization\"     \n",
       " \"Planning\"        \n",
       " \"Forecasting\"     \n",
       " \"Sourcing\"        \n",
       " \"Purchasing\"      \n",
       " \"Material\"        \n",
       " \"Inventory\"       \n",
       " \"Control\"         \n",
       " \"Production\"      \n",
       " \"Logistics\"       \n",
       " \"Transportation\"  \n",
       " \"Customer Service\"\n",
       " \"ERP\"             \n",
       " \"Compliance\"      \n",
       " \"Policies\"        \n",
       " \"Procedures\"      \n",
       " \"synergy\"         \n",
       " \"cash\"            "
      ]
     },
     "execution_count": 278,
     "metadata": {},
     "output_type": "execute_result"
    }
   ],
   "source": [
    "required_skills = [\n",
    "    \"Supply Chain\", \"Project\", \"Procurement\", \"Contracting\", \"Analysis\", \"optimization\", \"working capital\", \n",
    "    \"utilization\", \"Planning\", \"Forecasting\", \"Sourcing\", \"Purchasing\", \"Material\", \"Inventory\", \"Control\", \n",
    "    \"Production\", \"Logistics\", \"Transportation\", \"Customer Service\", \"ERP\", \"Compliance\", \"Policies\", \n",
    "    \"Procedures\", \"synergy\", \"cash\"\n",
    "] #  to be scanned in the given CV"
   ]
  },
  {
   "cell_type": "code",
   "execution_count": 279,
   "metadata": {},
   "outputs": [
    {
     "data": {
      "text/plain": [
       "70-element Array{Any,1}:\n",
       " \"Analysis\"        \n",
       " \"Compliance\"      \n",
       " \"Contracting\"     \n",
       " \"Contracting\"     \n",
       " \"Control\"         \n",
       " \"Control\"         \n",
       " \"Control\"         \n",
       " \"Control\"         \n",
       " \"Controls\"        \n",
       " \"Customer Service\"\n",
       " \"ERP\"             \n",
       " \"ERP\"             \n",
       " \"ERP\"             \n",
       " ⋮                 \n",
       " \"cash\"            \n",
       " \"optimization\"    \n",
       " \"synergy\"         \n",
       " \"synergy\"         \n",
       " \"synergy\"         \n",
       " \"utilization\"     \n",
       " \"utilization\"     \n",
       " \"utilization\"     \n",
       " \"utilization\"     \n",
       " \"utilization\"     \n",
       " \"working capital\" \n",
       " \"working capital\" "
      ]
     },
     "execution_count": 279,
     "metadata": {},
     "output_type": "execute_result"
    }
   ],
   "source": [
    "using PDFIO\n",
    "function getPDFText(src, out)\n",
    "    doc = pdDocOpen(src)\n",
    "    docinfo = pdDocGetInfo(doc)\n",
    "    open(out, \"w\") do io\n",
    "\t\tnpage = pdDocGetPageCount(doc)\n",
    "            for i=1:npage\n",
    "                page = pdDocGetPage(doc, i)\n",
    "                pdPageExtractText(io, page)\n",
    "            end\n",
    "    end\n",
    "    pdDocClose(doc)\n",
    "    return docinfo\n",
    "end\n",
    "getPDFText(candidate_cv, \"$candidate_cv.txt\")\n",
    "rx = \"skill\"\n",
    "for skill in required_skills\n",
    "    rx = \"$rx|$skill\"\n",
    "end\n",
    "rx = Regex(string(\"($rx)s?\"))\n",
    "cv_text = read(\"$src.txt\", String)\n",
    "found = collect(eachmatch(rx, cv_text, overlap = true))\n",
    "found_skills = []\n",
    "for (i, entry) in enumerate(found)\n",
    "    push!(found_skills, entry.match)\n",
    "end\n",
    "sort!(found_skills)"
   ]
  },
  {
   "cell_type": "code",
   "execution_count": 280,
   "metadata": {},
   "outputs": [],
   "source": [
    "using StatsBase"
   ]
  },
  {
   "cell_type": "code",
   "execution_count": 292,
   "metadata": {},
   "outputs": [
    {
     "ename": "MethodError",
     "evalue": "MethodError: no method matching sort(::Base.ValueIterator{Dict{Any,Int64}})\nClosest candidates are:\n  sort(!Matched::AbstractUnitRange) at range.jl:962\n  sort(!Matched::AbstractRange) at range.jl:965\n  sort(!Matched::SparseArrays.SparseVector{Tv,Ti}; kws...) where {Tv, Ti} at C:\\cygwin\\home\\Administrator\\buildbot\\worker\\package_win64\\build\\usr\\share\\julia\\stdlib\\v1.2\\SparseArrays\\src\\sparsevector.jl:1873\n  ...",
     "output_type": "error",
     "traceback": [
      "MethodError: no method matching sort(::Base.ValueIterator{Dict{Any,Int64}})\nClosest candidates are:\n  sort(!Matched::AbstractUnitRange) at range.jl:962\n  sort(!Matched::AbstractRange) at range.jl:965\n  sort(!Matched::SparseArrays.SparseVector{Tv,Ti}; kws...) where {Tv, Ti} at C:\\cygwin\\home\\Administrator\\buildbot\\worker\\package_win64\\build\\usr\\share\\julia\\stdlib\\v1.2\\SparseArrays\\src\\sparsevector.jl:1873\n  ...",
      "",
      "Stacktrace:",
      " [1] top-level scope at In[292]:3"
     ]
    }
   ],
   "source": [
    "sort!(found_skills)\n",
    "zx = countmap(found_skills)\n",
    "sort(values(zx))"
   ]
  },
  {
   "cell_type": "code",
   "execution_count": 285,
   "metadata": {},
   "outputs": [
    {
     "name": "stdout",
     "output_type": "stream",
     "text": [
      "Skills found: \n",
      "Analysis, Compliance, Contracting, Control, Controls, Customer Service, ERP, ERPs, Forecasting, Inventory, Logistics, Material, Materials, Planning, Policies, Procedures, Procurement, Production, Project, Projects, Purchasing, Sourcing, Supply Chain, Transportation, cash, optimization, synergy, utilization, working capital, "
     ]
    }
   ],
   "source": [
    "candidate_skills = unique(found_skills)  # unique!(found_skills)  ! to make changes in the array itself\n",
    "println(\"Skills found: \") \n",
    "for s in candidate_skills print(\"$s, \") end"
   ]
  },
  {
   "cell_type": "code",
   "execution_count": 264,
   "metadata": {},
   "outputs": [
    {
     "name": "stdout",
     "output_type": "stream",
     "text": [
      "Skills found: \n",
      "Analysis, Compliance, Contracting, Control, Controls, Customer Service, ERP, ERPs, Forecasting, Inventory, Logistics, Material, Materials, Planning, Policies, Procedures, Procurement, Production, Project, Projects, Purchasing, Sourcing, Supply Chain, Transportation, cash, optimization, synergy, utilization, working capital, "
     ]
    }
   ],
   "source": [
    "for i in reverse(1:length(found_skills))\n",
    "    if i>1 && found_skills[i] == found_skills[i-1] \n",
    "        deleteat!(found_skills, i) \n",
    "    end\n",
    "end\n",
    "println(\"Skills found: \") \n",
    "for s in found_skills print(\"$s, \") end"
   ]
  },
  {
   "cell_type": "code",
   "execution_count": null,
   "metadata": {},
   "outputs": [],
   "source": []
  }
 ],
 "metadata": {
  "kernelspec": {
   "display_name": "Julia 1.2.0",
   "language": "julia",
   "name": "julia-1.2"
  },
  "language_info": {
   "file_extension": ".jl",
   "mimetype": "application/julia",
   "name": "julia",
   "version": "1.2.0"
  }
 },
 "nbformat": 4,
 "nbformat_minor": 2
}
