{
 "cells": [
  {
   "cell_type": "markdown",
   "metadata": {},
   "source": [
    "# Scan CV wth 35 lines of code\n",
    "**[Hasan Yousef](mailto:hasan.ajsf@gmail.com), Sept 07, 2019**\n",
    "\n",
    "CV fast scanning app, read and analyse any pdf file based on your selected skills."
   ]
  },
  {
   "cell_type": "code",
   "execution_count": 88,
   "metadata": {},
   "outputs": [
    {
     "data": {
      "text/plain": [
       "\"HasanResume.pdf\""
      ]
     },
     "execution_count": 88,
     "metadata": {},
     "output_type": "execute_result"
    }
   ],
   "source": [
    "candidate_cv = \"HasanResume.pdf\" # CV to be analized"
   ]
  },
  {
   "cell_type": "code",
   "execution_count": 89,
   "metadata": {},
   "outputs": [
    {
     "data": {
      "text/plain": [
       "\"/Users/hasan/PycharmProjects\""
      ]
     },
     "execution_count": 89,
     "metadata": {},
     "output_type": "execute_result"
    }
   ],
   "source": [
    "pwd()"
   ]
  },
  {
   "cell_type": "code",
   "execution_count": 117,
   "metadata": {},
   "outputs": [
    {
     "name": "stdout",
     "output_type": "stream",
     "text": [
      "HasanResume.pdf\n"
     ]
    }
   ],
   "source": [
    "files = cd(readdir, pwd())\n",
    "for f in files\n",
    "    if ccursin(r\".*\\.pdf\\z\", f) == true # or match(r\".*\\.pdf\\z\", f) !== nothing # o\n",
    "        println(f)\n",
    "    end\n",
    "end"
   ]
  },
  {
   "cell_type": "code",
   "execution_count": 86,
   "metadata": {},
   "outputs": [
    {
     "data": {
      "text/plain": [
       "25-element Array{String,1}:\n",
       " \"Supply Chain\"    \n",
       " \"Project\"         \n",
       " \"Control(?=[^s])\" \n",
       " \"Plicy|Policies\"  \n",
       " \"Procurement\"     \n",
       " \"Contracting\"     \n",
       " \"Analysis\"        \n",
       " \"optimization\"    \n",
       " \"working capital\" \n",
       " \"utilization\"     \n",
       " \"Planning\"        \n",
       " \"Forecasting\"     \n",
       " \"Sourcing\"        \n",
       " \"Purchasing\"      \n",
       " \"Material\"        \n",
       " \"Inventory\"       \n",
       " \"Production\"      \n",
       " \"Logistics\"       \n",
       " \"Transportation\"  \n",
       " \"Customer Service\"\n",
       " \"ERP(?=[^s])\"     \n",
       " \"Compliance\"      \n",
       " \"Procedure(s|^s)\" \n",
       " \"synergy\"         \n",
       " \"cash\"            "
      ]
     },
     "execution_count": 86,
     "metadata": {},
     "output_type": "execute_result"
    }
   ],
   "source": [
    "required_skills = [\n",
    "    \"Supply Chain\", \n",
    "   # \"Project\",  # give all words startby project like projects, projectile, ... etc\n",
    "    \"Project(s|^s)\",  # (s|^s) ending with or without `s`\n",
    "    \"Control(?=[^s])\", # (?=[^s]) not ending with s\n",
    "    \"Plicy|Policies\",  # either singular or plural\n",
    "    \"Procurement\", \"Contracting\", \"Analysis\", \"optimization\", \"working capital\", \n",
    "    \"utilization\", \"Planning\", \"Forecasting\", \"Sourcing\", \"Purchasing\", \"Material\", \"Inventory\", \n",
    "    \"Production\", \"Logistics\", \"Transportation\", \"Customer Service\", \"ERP(?=[^s])\", \"Compliance\", \n",
    "    \"Procedure(s|^s)\", \"synergy\", \"cash\"\n",
    "] #  to be scanned in the given CV"
   ]
  },
  {
   "cell_type": "code",
   "execution_count": 87,
   "metadata": {},
   "outputs": [
    {
     "name": "stdout",
     "output_type": "stream",
     "text": [
      "Skills found: 28 / 25 \n",
      "Analysis, Cash, Compliance, Contracting, Control, Customer Service, Erp, Forecasting, Inventory, Logistics, Material, Materials, Optimization, Planning, Policies, Procedures, Procurement, Production, Project, Projects, Purchasing, Skills, Sourcing, Supply Chain, Synergy, Transportation, Utilization, Working Capital, "
     ]
    }
   ],
   "source": [
    "candidate_cv = \"HasanResume.pdf\" # CV to be analized\n",
    "# required_skills = [\n",
    "#    \"Supply Chain\", \"Project(s|s?)\"\n",
    "#] #  to be scanned in the given CV\n",
    "using PDFIO\n",
    "function getPDFText(src, out)\n",
    "    doc = pdDocOpen(src)\n",
    "    docinfo = pdDocGetInfo(doc)\n",
    "    open(out, \"w\") do io\n",
    "\t\tnpage = pdDocGetPageCount(doc)\n",
    "            for i=1:npage\n",
    "                page = pdDocGetPage(doc, i)\n",
    "                pdPageExtractText(io, page)\n",
    "            end\n",
    "    end\n",
    "    pdDocClose(doc)\n",
    "    return docinfo\n",
    "end\n",
    "getPDFText(candidate_cv, \"$candidate_cv.txt\")\n",
    "rx = \"skill\"\n",
    "for skill in required_skills\n",
    "    rx = \"$rx|$skill\"\n",
    "end\n",
    "rx = Regex(string(\"(?i)($rx)s?(?-i)\")) # (?i) case insensetive (?-i)\n",
    "cv_text = read(\"$candidate_cv.txt\", String)\n",
    "#cv_text = \"Projects management and supply chain project\"\n",
    "found = collect(eachmatch(rx, cv_text, overlap = true))\n",
    "found_skills = []\n",
    "for (i, entry) in enumerate(found)\n",
    "    push!(found_skills, entry.match)\n",
    "end\n",
    "candidate_skills = unique(titlecase.(found_skills))  \n",
    "# unique!(found_skills)  ! to make changes in the array itself\n",
    "# . after titlecaase applies all function `titlecase` to all elemnets of the array\n",
    "println(\"Skills found: $(length(candidate_skills)) / $(length(required_skills)) \") \n",
    "for s in sort!(candidate_skills) print(\"$s, \") end\n",
    "#sort!(found_skills)"
   ]
  },
  {
   "cell_type": "code",
   "execution_count": 8,
   "metadata": {},
   "outputs": [],
   "source": [
    "using StatsBase"
   ]
  },
  {
   "cell_type": "code",
   "execution_count": 10,
   "metadata": {},
   "outputs": [
    {
     "data": {
      "text/plain": [
       "Dict{Any,Int64} with 29 entries:\n",
       "  \"Inventory\"        => 8\n",
       "  \"Project\"          => 4\n",
       "  \"Planning\"         => 6\n",
       "  \"Logistics\"        => 3\n",
       "  \"Purchasing\"       => 1\n",
       "  \"Control\"          => 4\n",
       "  \"ERPs\"             => 1\n",
       "  \"Procedures\"       => 1\n",
       "  \"Forecasting\"      => 2\n",
       "  \"Procurement\"      => 1\n",
       "  \"Materials\"        => 1\n",
       "  \"Material\"         => 1\n",
       "  \"Sourcing\"         => 2\n",
       "  \"Compliance\"       => 1\n",
       "  \"ERP\"              => 6\n",
       "  \"Projects\"         => 2\n",
       "  \"optimization\"     => 1\n",
       "  \"synergy\"          => 3\n",
       "  \"Analysis\"         => 1\n",
       "  \"Transportation\"   => 1\n",
       "  \"cash\"             => 4\n",
       "  \"Policies\"         => 1\n",
       "  \"working capital\"  => 2\n",
       "  \"Contracting\"      => 2\n",
       "  \"Supply Chain\"     => 3\n",
       "  ⋮                  => ⋮"
      ]
     },
     "execution_count": 10,
     "metadata": {},
     "output_type": "execute_result"
    }
   ],
   "source": [
    "sort!(found_skills)\n",
    "countmap(found_skills)"
   ]
  },
  {
   "cell_type": "code",
   "execution_count": 52,
   "metadata": {},
   "outputs": [
    {
     "name": "stdout",
     "output_type": "stream",
     "text": [
      "Skills found: \n",
      "SUPPLY CHAIN, OPTIMIZATION, Supply Chain, optimization, working capital, utilization, Planning, Forecasting, Sourcing, Contracting, Purchasing, Material, Inventory, Control, Production, Logistics, Transportation, Customer Service, ERP, Project, Compliance, Policies, Procedures, synergy, cash, policies, procedures, supply chain, Controls, inventory, Projects, SKILLS, Optimization, analysis, Analysis, Working capital, planning, Procurement, material, transportation, projects, ERPs, PROJECT, compliance, Supply chain, production, control, PRODUCTION, project, Materials, "
     ]
    }
   ],
   "source": [
    "candidate_skills = unique(found_skills)  # unique!(found_skills)  ! to make changes in the array itself\n",
    "println(\"Skills found: \") \n",
    "for s in candidate_skills print(\"$s, \") end"
   ]
  },
  {
   "cell_type": "code",
   "execution_count": 12,
   "metadata": {},
   "outputs": [
    {
     "name": "stdout",
     "output_type": "stream",
     "text": [
      "Skills found: \n",
      "Analysis, Compliance, Contracting, Control, Controls, Customer Service, ERP, ERPs, Forecasting, Inventory, Logistics, Material, Materials, Planning, Policies, Procedures, Procurement, Production, Project, Projects, Purchasing, Sourcing, Supply Chain, Transportation, cash, optimization, synergy, utilization, working capital, "
     ]
    }
   ],
   "source": [
    "for i in reverse(1:length(found_skills))\n",
    "    if i>1 && found_skills[i] == found_skills[i-1] \n",
    "        deleteat!(found_skills, i) \n",
    "    end\n",
    "end\n",
    "println(\"Skills found: \") \n",
    "for s in found_skills print(\"$s, \") end"
   ]
  },
  {
   "cell_type": "code",
   "execution_count": null,
   "metadata": {},
   "outputs": [],
   "source": []
  }
 ],
 "metadata": {
  "kernelspec": {
   "display_name": "Julia 1.2.0",
   "language": "julia",
   "name": "julia-1.2"
  },
  "language_info": {
   "file_extension": ".jl",
   "mimetype": "application/julia",
   "name": "julia",
   "version": "1.2.0"
  }
 },
 "nbformat": 4,
 "nbformat_minor": 4
}
