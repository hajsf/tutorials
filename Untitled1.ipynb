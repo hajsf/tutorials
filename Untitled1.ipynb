{
 "cells": [
  {
   "cell_type": "markdown",
   "metadata": {},
   "source": [
    "# CV scanning in 35 lines of code\n",
    "**[Hasan Yousef](mailto:hasan.ajsf@gmail.com), Sept 07, 2019**\n",
    "\n",
    "CV fast scanning app, read and analyse any pdf file based on your selected skills."
   ]
  },
  {
   "cell_type": "code",
   "execution_count": 20,
   "metadata": {},
   "outputs": [
    {
     "data": {
      "text/plain": [
       "2-element Array{String,1}:\n",
       " \"Supply Chain\"\n",
       " \"Project\"     "
      ]
     },
     "execution_count": 20,
     "metadata": {},
     "output_type": "execute_result"
    }
   ],
   "source": [
    "required_skills = [\"Supply Chain\", \"Project\"] #  to be scanned in the given CV"
   ]
  },
  {
   "cell_type": "code",
   "execution_count": 21,
   "metadata": {},
   "outputs": [
    {
     "data": {
      "text/plain": [
       "\"HasanResume.pdf\""
      ]
     },
     "execution_count": 21,
     "metadata": {},
     "output_type": "execute_result"
    }
   ],
   "source": [
    "src = \"HasanResume.pdf\" # CV to be analized"
   ]
  },
  {
   "cell_type": "code",
   "execution_count": 22,
   "metadata": {},
   "outputs": [
    {
     "ename": "UndefVarError",
     "evalue": "UndefVarError: skill not defined",
     "output_type": "error",
     "traceback": [
      "UndefVarError: skill not defined",
      "",
      "Stacktrace:",
      " [1] top-level scope at In[22]:33"
     ]
    }
   ],
   "source": [
    "using PDFIO\n",
    "function getPDFText(src, out)\n",
    "    doc = pdDocOpen(src)\n",
    "    docinfo = pdDocGetInfo(doc)\n",
    "    open(out, \"w\") do io\n",
    "\t\tnpage = pdDocGetPageCount(doc)\n",
    "            for i=1:npage\n",
    "                page = pdDocGetPage(doc, i)\n",
    "                pdPageExtractText(io, page)\n",
    "            end\n",
    "    end\n",
    "    pdDocClose(doc)\n",
    "    return docinfo\n",
    "end\n",
    "getPDFText(src, \"$src.txt\")\n",
    "rx = \"skill\"\n",
    "for skill in required_skills\n",
    "    rx = \"$rx|$skill\"\n",
    "end\n",
    "rx = Regex(string(\"($rx)s?\"))\n",
    "cv_text = read(\"$src.txt\", String)\n",
    "found = collect(eachmatch(rx, cv_text, overlap = true))\n",
    "found_skills = []\n",
    "for (i, entry) in enumerate(found)\n",
    "    push!(found_skills, entry.match)\n",
    "end\n",
    "sort!(found_skills)\n",
    "for i in reverse(1:length(found_skills))\n",
    "    if i>1 && found_skills[i] == found_skills[i-1] \n",
    "        deleteat!(found_skills, i) \n",
    "    end\n",
    "end\n",
    "\n",
    "print(\"$skill found: \") for s in found_skills print(\"$s, \") end"
   ]
  }
 ],
 "metadata": {
  "kernelspec": {
   "display_name": "Julia 1.2.0",
   "language": "julia",
   "name": "julia-1.2"
  },
  "language_info": {
   "file_extension": ".jl",
   "mimetype": "application/julia",
   "name": "julia",
   "version": "1.2.0"
  }
 },
 "nbformat": 4,
 "nbformat_minor": 2
}
