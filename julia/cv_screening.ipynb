{
 "cells": [
  {
   "cell_type": "markdown",
   "metadata": {},
   "source": [
    "# CV Quick Screening wth 35 lines of code\n",
    "**[Hasan Yousef](mailto:hasan.ajsf@gmail.com), Sept 08, 2019**\n",
    "\n",
    "CV fast screening based on selected key words that required to be in the CV"
   ]
  },
  {
   "cell_type": "code",
   "execution_count": 1,
   "metadata": {},
   "outputs": [
    {
     "data": {
      "text/plain": [
       "25-element Array{String,1}:\n",
       " \"Supply Chain\"    \n",
       " \"Project(s|^s)\"   \n",
       " \"Control(?=[^s])\" \n",
       " \"Plicy|Policies\"  \n",
       " \"Procurement\"     \n",
       " \"Contracting\"     \n",
       " \"Analysis\"        \n",
       " \"optimization\"    \n",
       " \"working capital\" \n",
       " \"utilization\"     \n",
       " \"Planning\"        \n",
       " \"Forecasting\"     \n",
       " \"Sourcing\"        \n",
       " \"Purchasing\"      \n",
       " \"Material\"        \n",
       " \"Inventory\"       \n",
       " \"Production\"      \n",
       " \"Logistics\"       \n",
       " \"Transportation\"  \n",
       " \"Customer Service\"\n",
       " \"ERP(?=[^s])\"     \n",
       " \"Compliance\"      \n",
       " \"Procedure(s|^s)\" \n",
       " \"synergy\"         \n",
       " \"cash\"            "
      ]
     },
     "execution_count": 1,
     "metadata": {},
     "output_type": "execute_result"
    }
   ],
   "source": [
    "required_skills = [\n",
    "    \"Supply Chain\", \n",
    "   # \"Project\",  # give all words startby project like projects, projectile, ... etc\n",
    "    \"Project(s|^s)\",  # (s|^s) ending with or without `s`\n",
    "    \"Control(?=[^s])\", # (?=[^s]) not ending with s\n",
    "    \"Plicy|Policies\",  # either singular or plural\n",
    "    \"Procurement\", \"Contracting\", \"Analysis\", \"optimization\", \"working capital\", \n",
    "    \"utilization\", \"Planning\", \"Forecasting\", \"Sourcing\", \"Purchasing\", \"Material\", \"Inventory\", \n",
    "    \"Production\", \"Logistics\", \"Transportation\", \"Customer Service\", \"ERP(?=[^s])\", \"Compliance\", \n",
    "    \"Procedure(s|^s)\", \"synergy\", \"cash\"\n",
    "] #  to be scanned in the given CV"
   ]
  },
  {
   "cell_type": "code",
   "execution_count": 2,
   "metadata": {},
   "outputs": [],
   "source": [
    "using PDFIO\n",
    "using StatsBase"
   ]
  },
  {
   "cell_type": "code",
   "execution_count": 3,
   "metadata": {},
   "outputs": [
    {
     "data": {
      "text/plain": [
       "\"/Users/hasan/PycharmProjects\""
      ]
     },
     "execution_count": 3,
     "metadata": {},
     "output_type": "execute_result"
    }
   ],
   "source": [
    "pwd() # Confirm wrking directory"
   ]
  },
  {
   "cell_type": "code",
   "execution_count": 4,
   "metadata": {},
   "outputs": [
    {
     "data": {
      "text/plain": [
       "getPDFText (generic function with 1 method)"
      ]
     },
     "execution_count": 4,
     "metadata": {},
     "output_type": "execute_result"
    }
   ],
   "source": [
    "function getPDFText(src, out)\n",
    "    doc = pdDocOpen(src)\n",
    "    docinfo = pdDocGetInfo(doc)\n",
    "    open(out, \"w\") do io\n",
    "\t\tnpage = pdDocGetPageCount(doc)\n",
    "            for i=1:npage\n",
    "                page = pdDocGetPage(doc, i)\n",
    "                pdPageExtractText(io, page)\n",
    "            end\n",
    "    end\n",
    "    pdDocClose(doc)\n",
    "    return docinfo\n",
    "end"
   ]
  },
  {
   "cell_type": "code",
   "execution_count": 7,
   "metadata": {},
   "outputs": [
    {
     "name": "stdout",
     "output_type": "stream",
     "text": [
      "Skills found: at HasanResume.pdf (cv) are 27 / 25 \n",
      "Analysis, Cash, Compliance, Contracting, Control, Customer Service, Erp, Forecasting, Inventory, Logistics, Material, Materials, Optimization, Planning, Policies, Procedures, Procurement, Production, Projects, Purchasing, Skills, Sourcing, Supply Chain, Synergy, Transportation, Utilization, Working Capital, "
     ]
    }
   ],
   "source": [
    "cv_files = cd(readdir, pwd())\n",
    "for f in cv_files\n",
    "    if occursin(r\".*\\.pdf\\z\", f) == true\n",
    "        getPDFText(f, \"$f.txt\")\n",
    "        rx = \"skill\"\n",
    "        for skill in required_skills\n",
    "            rx = \"$rx|$skill\"\n",
    "        end\n",
    "        rx = Regex(string(\"(?i)($rx)s?(?-i)\")) # (?i) case insensetive (?-i)\n",
    "        cv_text = read(\"$f.txt\", String)\n",
    "        found = collect(eachmatch(rx, cv_text, overlap = true))\n",
    "        found_skills = []\n",
    "        for (i, entry) in enumerate(found)\n",
    "            push!(found_skills, entry.match)\n",
    "        end\n",
    "        candidate_skills = unique(titlecase.(found_skills))  \n",
    "        println(\"Skills found: at $f (cv) are $(length(candidate_skills)) / $(length(required_skills)) \") \n",
    "        for s in sort!(candidate_skills) print(\"$s, \") end\n",
    "    end\n",
    "end"
   ]
  },
  {
   "cell_type": "code",
   "execution_count": null,
   "metadata": {},
   "outputs": [],
   "source": []
  }
 ],
 "metadata": {
  "kernelspec": {
   "display_name": "Julia 1.2.0",
   "language": "julia",
   "name": "julia-1.2"
  },
  "language_info": {
   "file_extension": ".jl",
   "mimetype": "application/julia",
   "name": "julia",
   "version": "1.2.0"
  }
 },
 "nbformat": 4,
 "nbformat_minor": 4
}
